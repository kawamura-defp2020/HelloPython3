{
 "cells": [
  {
   "cell_type": "markdown",
   "metadata": {},
   "source": [
    "# 素数のリストを作ってみよう\n",
    "\n",
    "2以上50以下の `素数のリスト` と `それら素数を全て加算した値` が求まるように以下のfor文ブロックなのかを記述してください。\n",
    "`result_list` にリストを，`result_sum` に加算した値が入るように，下のコードのセルを変更してください．"
   ],
   "execution_count": null,
   "outputs": []
  },
  {
   "cell_type": "markdown",
   "metadata": {},
   "source": [
    "補足:  Pythonの標準ライブラリを使用しない方法で解く"
   ],
   "execution_count": null,
   "outputs": []
  },
  {
   "cell_type": "markdown",
   "metadata": {},
   "source": [
    "以下の `#この行に追記` の部分を書き変えて、以下のように表示されるようにプログラムを完成させて下さい。\n",
    "\n",
    "```\n",
    "328\n",
    "[2, 3, 5, 7, 11, 13, 17, 19, 23, 29, 31, 37, 41, 43, 47]\n",
    "```"
   ],
   "execution_count": null,
   "outputs": []
  },
  {
   "cell_type": "code",
   "execution_count": 17,
   "metadata": {},
   "outputs": [
    {
     "output_type": "stream",
     "name": "stdout",
     "text": "328\n[2, 3, 5, 7, 11, 13, 17, 19, 23, 29, 31, 37, 41, 43, 47]\n"
    }
   ],
   "source": [
    "result_sum = 0\n",
    "result_list = []\n",
    "\n",
    "for i in range(2, 51):\n",
    "    for j in range(2, i):\n",
    "        if i % j == 0:\n",
    "            break\n",
    "    else:\n",
    "        result_list.append(i) \n",
    "        result_sum += i\n",
    "\n",
    "print(result_sum)\n",
    "assert result_sum == 328\n",
    "print(result_list)\n",
    "assert result_list == [2, 3, 5, 7, 11, 13, 17, 19, 23, 29, 31, 37, 41, 43, 47]"
   ]
  },
  {
   "cell_type": "markdown",
   "metadata": {},
   "source": [
    "備考: assert は求めた値が正しいかを判定します．解が正しければ，AsswertionError は出ませんが，間違っている場合はAssertionError が起こります．"
   ],
   "execution_count": null,
   "outputs": []
  },
  {
   "cell_type": "code",
   "execution_count": 1,
   "metadata": {},
   "outputs": [
    {
     "output_type": "stream",
     "name": "stdout",
     "text": "Python 3.7.6\n"
    }
   ],
   "source": [
    "!python -V"
   ]
  },
  {
   "cell_type": "code",
   "execution_count": null,
   "metadata": {},
   "outputs": [],
   "source": []
  }
 ],
 "metadata": {
  "kernelspec": {
   "display_name": "Python 3",
   "language": "python",
   "name": "python3"
  },
  "language_info": {
   "codemirror_mode": {
    "name": "ipython",
    "version": 3
   },
   "file_extension": ".py",
   "mimetype": "text/x-python",
   "name": "python",
   "nbconvert_exporter": "python",
   "pygments_lexer": "ipython3",
   "version": "3.7.6-final"
  }
 },
 "nbformat": 4,
 "nbformat_minor": 2
}