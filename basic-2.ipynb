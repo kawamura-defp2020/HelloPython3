{
 "cells": [
  {
   "cell_type": "markdown",
   "metadata": {},
   "source": [
    "# 自分の名前を表示させてみよう\n",
    "\n",
    "以下の *変数* に各自の情報を書き、Notebookを提出して下さい。\n",
    "\n",
    "- last_name 変数に、あなたの名字をstr型で入れる\n",
    "- first_name 変数に、あなたの名前をstr型で入れる\n",
    "- student_number 変数に、あなたの学生番号をstr型で入れる\n",
    "\n",
    "fullname 変数に上記で代入した、 `last_name` と `first_name` をスペースを間に入れて連結してたものを出力して下さい。\n",
    "\n",
    "age 変数に、あなたの年齢をint型で入れる\n",
    "\n",
    "\n",
    "my_info 変数に、dict型で、あなたの情報(`fullname`, `student_number`, `age`,) を上記の各変数を使ってまとめて下さい。\n"
   ],
   "execution_count": null,
   "outputs": []
  },
  {
   "cell_type": "markdown",
   "metadata": {},
   "source": [
    "回答例"
   ],
   "execution_count": null,
   "outputs": []
  },
  {
   "cell_type": "code",
   "execution_count": 10,
   "metadata": {},
   "outputs": [],
   "source": [
    "last_name = \"川村\"  # 自分の名字に変更する\n",
    "first_name = \"正治\"  # 自分の名前に変更する\n",
    "student_number = \"KAAE0034710\"  # 自分の学生番号に変更する"
   ]
  },
  {
   "cell_type": "code",
   "execution_count": 11,
   "metadata": {},
   "outputs": [
    {
     "output_type": "stream",
     "name": "stdout",
     "text": "川村 正治\n"
    }
   ],
   "source": [
    "fullname = last_name + \" \" + first_name   # □ の部分を埋めて，あらたな変数 fullname を作る\n",
    "print(fullname)"
   ]
  },
  {
   "cell_type": "code",
   "execution_count": 12,
   "metadata": {},
   "outputs": [],
   "source": [
    "age = 48"
   ]
  },
  {
   "cell_type": "code",
   "execution_count": 13,
   "metadata": {},
   "outputs": [
    {
     "output_type": "stream",
     "name": "stdout",
     "text": "('川村 正治', 'KAAE0034710', 48)\n"
    }
   ],
   "source": [
    "my_info = (fullname, student_number, age,)   ## 回答例にあるような辞書(dict)を作る\n",
    "print(my_info)"
   ]
  },
  {
   "cell_type": "code",
   "execution_count": null,
   "metadata": {},
   "outputs": [],
   "source": []
  }
 ],
 "metadata": {
  "kernelspec": {
   "display_name": "Python 3",
   "language": "python",
   "name": "python3"
  },
  "language_info": {
   "codemirror_mode": {
    "name": "ipython",
    "version": 3
   },
   "file_extension": ".py",
   "mimetype": "text/x-python",
   "name": "python",
   "nbconvert_exporter": "python",
   "pygments_lexer": "ipython3",
   "version": "3.7.6-final"
  }
 },
 "nbformat": 4,
 "nbformat_minor": 2
}